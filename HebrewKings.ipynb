{
 "cells": [
  {
   "cell_type": "markdown",
   "id": "6ee3955e-c320-4a8b-98bd-2c88f11ec99e",
   "metadata": {
    "editable": true,
    "slideshow": {
     "slide_type": ""
    },
    "tags": []
   },
   "source": [
    "# Hebrew Kings\n"
   ]
  },
  {
   "cell_type": "markdown",
   "id": "0c9348e7-2c51-406a-998d-1228474ed065",
   "metadata": {
    "editable": true,
    "slideshow": {
     "slide_type": ""
    },
    "tags": []
   },
   "source": [
    "## Just a test"
   ]
  },
  {
   "cell_type": "code",
   "execution_count": 2,
   "id": "1d36ddb3-fac6-43bd-bee8-11ebc3e305f7",
   "metadata": {
    "editable": true,
    "slideshow": {
     "slide_type": ""
    },
    "tags": []
   },
   "outputs": [
    {
     "data": {
      "text/plain": [
       "'D:\\\\Writing\\\\JupyterLab\\\\HebrewKings'"
      ]
     },
     "execution_count": 2,
     "metadata": {},
     "output_type": "execute_result"
    }
   ],
   "source": [
    "import os\n",
    "os.getcwd()"
   ]
  },
  {
   "cell_type": "markdown",
   "id": "f6f2c4f2-ec6a-4391-8032-5e3b42f042cb",
   "metadata": {},
   "source": [
    "Following ABR and also CMI.  "
   ]
  },
  {
   "cell_type": "markdown",
   "id": "aa660e92-136c-4b30-a844-97a0d73f1459",
   "metadata": {},
   "source": [
    "<div dir=\"rtl\">\n",
    "בְּרֵאשִׁ֖ית בָּרָ֣א אֱלֹהִ֑ים אֵ֥ת הַשָּׁמַ֖יִם וְאֵ֥ת הָאָֽרֶץ:\n",
    "</div>"
   ]
  },
  {
   "cell_type": "markdown",
   "id": "69a9e137-57ac-4df6-85c9-f2667b449bd4",
   "metadata": {},
   "source": [
    "And here is [](intro)"
   ]
  },
  {
   "cell_type": "code",
   "execution_count": 3,
   "id": "879c6677-e5ac-4c41-8c8f-b37c0594baf9",
   "metadata": {},
   "outputs": [
    {
     "name": "stdout",
     "output_type": "stream",
     "text": [
      "j,832,821\n",
      "\n",
      "king,764,329\n",
      "\n"
     ]
    },
    {
     "data": {
      "text/plain": [
       "(['j', 'king'], [832, 764], [821, 329])"
      ]
     },
     "execution_count": 3,
     "metadata": {},
     "output_type": "execute_result"
    }
   ],
   "source": [
    "# | label: load-data\n",
    "\n",
    "names = []\n",
    "begin_reign = []\n",
    "end_reign = []\n",
    "with open('data/HebrewKings.csv') as file:\n",
    "    file.readline()\n",
    "    for line in file.readlines():\n",
    "        fields = line.split(',')        # splits line at comma\n",
    "        names.append(fields[0])\n",
    "        begin_reign.append(int(fields[1]))\n",
    "        end_reign.append(int(fields[2]))\n",
    "        print(line)\n",
    "names,begin_reign,end_reign"
   ]
  },
  {
   "cell_type": "code",
   "execution_count": 4,
   "id": "46191021-2b28-41b8-86f6-7906523801bc",
   "metadata": {
    "editable": true,
    "slideshow": {
     "slide_type": ""
    },
    "tags": []
   },
   "outputs": [
    {
     "data": {
      "text/plain": [
       "array([[ nan,  nan,  nan],\n",
       "       [ nan, 832., 821.],\n",
       "       [ nan, 764., 329.]])"
      ]
     },
     "execution_count": 4,
     "metadata": {},
     "output_type": "execute_result"
    }
   ],
   "source": [
    "import numpy as np\n",
    "Kings = np.genfromtxt('data/HebrewKings.csv', delimiter=',')\n",
    "Kings"
   ]
  },
  {
   "cell_type": "code",
   "execution_count": 5,
   "id": "0d1ef30f-4c5f-4a7b-aec5-98101d4dc568",
   "metadata": {},
   "outputs": [
    {
     "data": {
      "text/plain": [
       "dict_items([('j', 832), ('king', 764)])"
      ]
     },
     "execution_count": 5,
     "metadata": {},
     "output_type": "execute_result"
    }
   ],
   "source": [
    "kingdict = dict(zip(names,begin_reign))\n",
    "kingdict.items()"
   ]
  },
  {
   "cell_type": "code",
   "execution_count": 6,
   "id": "128f145a-6726-4561-9d4b-8119f6470adc",
   "metadata": {},
   "outputs": [
    {
     "data": {
      "text/plain": [
       "68"
      ]
     },
     "execution_count": 6,
     "metadata": {},
     "output_type": "execute_result"
    }
   ],
   "source": [
    "kingdict['j']-kingdict['king']"
   ]
  },
  {
   "cell_type": "code",
   "execution_count": null,
   "id": "4e0ab935-4341-4130-952c-e3823c2c2798",
   "metadata": {},
   "outputs": [],
   "source": []
  },
  {
   "cell_type": "code",
   "execution_count": null,
   "id": "f5c04ab0-a783-4bd2-acda-20b224d4d379",
   "metadata": {},
   "outputs": [],
   "source": []
  },
  {
   "cell_type": "code",
   "execution_count": null,
   "id": "64e777cd-f8c7-45c0-82bd-85876a33440c",
   "metadata": {},
   "outputs": [],
   "source": []
  },
  {
   "cell_type": "code",
   "execution_count": null,
   "id": "a845ae94-9df2-4803-91e8-c93edbcb7c19",
   "metadata": {},
   "outputs": [],
   "source": []
  },
  {
   "cell_type": "code",
   "execution_count": 7,
   "id": "07219d28-35be-44ec-87a4-cba83f28e40f",
   "metadata": {},
   "outputs": [
    {
     "data": {
      "text/plain": [
       "dict_items([('j', 832), ('king', 764)])"
      ]
     },
     "execution_count": 7,
     "metadata": {},
     "output_type": "execute_result"
    }
   ],
   "source": [
    "kingdict = dict(zip(names,begin_reign))\n",
    "kingdict.items()"
   ]
  },
  {
   "cell_type": "code",
   "execution_count": null,
   "id": "f5f86b03-4491-420f-a9ed-ec25325d8b9d",
   "metadata": {},
   "outputs": [],
   "source": []
  },
  {
   "cell_type": "code",
   "execution_count": null,
   "id": "77549842-cfaa-4623-9d9b-f767e4d478f6",
   "metadata": {},
   "outputs": [],
   "source": []
  },
  {
   "cell_type": "code",
   "execution_count": null,
   "id": "ed2a2a2a-79d8-442e-aac9-9b7ada689730",
   "metadata": {},
   "outputs": [],
   "source": []
  },
  {
   "cell_type": "code",
   "execution_count": null,
   "id": "94e683c0-fa3e-4275-9da9-bdd8e58bbd21",
   "metadata": {},
   "outputs": [],
   "source": []
  },
  {
   "cell_type": "code",
   "execution_count": null,
   "id": "c338c29e-7765-4c6d-8cac-c4ae3463a029",
   "metadata": {},
   "outputs": [],
   "source": []
  },
  {
   "cell_type": "markdown",
   "id": "53d9bff4-a35d-44e4-9367-7ae440fccb58",
   "metadata": {},
   "source": [
    "Testing if [data](#load-data)"
   ]
  },
  {
   "cell_type": "code",
   "execution_count": null,
   "id": "7d6300a3-2873-438f-bd94-db5a38d280bc",
   "metadata": {},
   "outputs": [],
   "source": []
  },
  {
   "cell_type": "code",
   "execution_count": null,
   "id": "1e687bc2-7378-4750-b103-9357452dc026",
   "metadata": {},
   "outputs": [],
   "source": []
  }
 ],
 "metadata": {
  "kernelspec": {
   "display_name": "Python 3 (ipykernel)",
   "language": "python",
   "name": "python3"
  },
  "language_info": {
   "codemirror_mode": {
    "name": "ipython",
    "version": 3
   },
   "file_extension": ".py",
   "mimetype": "text/x-python",
   "name": "python",
   "nbconvert_exporter": "python",
   "pygments_lexer": "ipython3",
   "version": "3.11.4"
  }
 },
 "nbformat": 4,
 "nbformat_minor": 5
}
